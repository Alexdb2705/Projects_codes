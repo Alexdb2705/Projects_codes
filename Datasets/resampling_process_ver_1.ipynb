{
 "cells": [
  {
   "cell_type": "markdown",
   "metadata": {},
   "source": [
    "## 1. Converting .stl file to .ply\n",
    "For that task, the next page will be used [stl to ply](https://imagetostl.com/convert/file/stl/to/ply)."
   ]
  },
  {
   "cell_type": "code",
   "execution_count": null,
   "metadata": {},
   "outputs": [],
   "source": [
    "nombre           = \"\"                      # .ply file name, which must be in the same place as this notebook\n",
    "                                           # Example: object is in //ruta/objeto.ply, name variable must be \"objeto\"\n",
    "\n",
    "target_num_pts_1 =                         # The objective quantity of points is established (the final value will be approximate), for the case \n",
    "                                           # in which points are not necessarily evenly spaced\n",
    "\n",
    "target_num_pts_2 =                         # The objective quantity of points is established (the final value will be approximate), for the case\n",
    "                                           # in which points are evenly spaced\n",
    "\n",
    "error_exactitud  =                         # This way, the exact quantity of points will be between (1-error_exactitud)*target_num_pts and\n",
    "                                           # (1+error_exactitud)*target_num_pts"
   ]
  },
  {
   "cell_type": "markdown",
   "metadata": {},
   "source": [
    "## 2. Pertinent definitions.\n",
    "The next libraries are needed to be installed: pcu, numpy, json, matplotlib.pyplot"
   ]
  },
  {
   "cell_type": "markdown",
   "metadata": {},
   "source": [
    "### Importing necessary libraries"
   ]
  },
  {
   "cell_type": "code",
   "execution_count": null,
   "metadata": {},
   "outputs": [],
   "source": [
    "import point_cloud_utils as pcu\n",
    "import numpy as np\n",
    "import json\n",
    "import matplotlib.pyplot as plt"
   ]
  },
  {
   "cell_type": "markdown",
   "metadata": {},
   "source": [
    "### Defining necessary functions that will be used"
   ]
  },
  {
   "cell_type": "code",
   "execution_count": null,
   "metadata": {},
   "outputs": [],
   "source": [
    "def plot_views(point_cloud, sizes=1):\n",
    "    \"\"\"\n",
    "    Plot the 3 different views of the point cloud in (XY, XZ, YZ) perspectives, and a general 3D visualization.\n",
    "\n",
    "    Parameters:\n",
    "        point_cloud (dict): The point cloud, as a dictionary.\n",
    "        sizes (float, int): Visual size of the points in the views.\n",
    "    \"\"\"\n",
    "    points = np.array(point_cloud[\"vertices\"])\n",
    "\n",
    "    # XY view\n",
    "    plt.figure()\n",
    "    plt.scatter(points[:, 0], points[:, 1], s=sizes)\n",
    "    plt.title(\"XY View\")\n",
    "    plt.xlabel(\"X\")\n",
    "    plt.ylabel(\"Y\")\n",
    "    plt.axis(\"equal\")\n",
    "\n",
    "    # XZ view\n",
    "    plt.figure()\n",
    "    plt.scatter(points[:, 0], points[:, 2], s=sizes)\n",
    "    plt.title(\"XZ View\")\n",
    "    plt.xlabel(\"X\")\n",
    "    plt.ylabel(\"Z\")\n",
    "    plt.axis(\"equal\")\n",
    "\n",
    "    # YZ view\n",
    "    plt.figure()\n",
    "    plt.scatter(points[:, 1], points[:, 2], s=sizes)\n",
    "    plt.title(\"YZ View\")\n",
    "    plt.xlabel(\"Y\")\n",
    "    plt.ylabel(\"Z\")\n",
    "    plt.axis(\"equal\")\n",
    "\n",
    "    # 3D perspective\n",
    "    fig = plt.figure()\n",
    "    ax = fig.add_subplot(111, projection='3d')\n",
    "    ax.scatter(points[:, 0], points[:, 1], points[:, 2], s=sizes)\n",
    "    ax.view_init(elev=30, azim=45)  \n",
    "    plt.title(\"Perspective View\")\n",
    "    ax.set_xlabel(\"X\")\n",
    "    ax.set_ylabel(\"Y\")\n",
    "    ax.set_zlabel(\"Z\")\n",
    "\n",
    "    plt.show()"
   ]
  },
  {
   "cell_type": "markdown",
   "metadata": {},
   "source": [
    "## 3. Extracting the elements from .ply object"
   ]
  },
  {
   "cell_type": "code",
   "execution_count": null,
   "metadata": {},
   "outputs": [],
   "source": [
    "# v is an (n,3) array that contains the n object vertices coordinates\n",
    "# f is an (m, k) array that contains m faces, each of them conformed by k vertices, (m, 3) if triangular faces, for example\n",
    "# n is an (m, 3) array that contains m normals of the m faces\n",
    "v, f, n = pcu.load_mesh_vfn(f\"./{nombre}.ply\")\n",
    "target_radius_2 = np.linalg.norm(v.max(0) - v.min(0)) * 0.02 \n",
    "\n",
    "# Next line has to be uncommented only if a variable type error is outputted later when pcu.interpolate is called \n",
    "# f = np.array(f, dtype=np.int32)"
   ]
  },
  {
   "cell_type": "markdown",
   "metadata": {},
   "source": [
    "## 4. First option, generating a point cloud of a quantity given approximately by target_num_pts\n",
    "The new point cloud is generated (only points), saved in .ply and in .json, and displayed."
   ]
  },
  {
   "cell_type": "code",
   "execution_count": null,
   "metadata": {},
   "outputs": [],
   "source": [
    "fid_1, bc_1 = pcu.sample_mesh_poisson_disk(v, f, int(target_num_pts_1*0.9))   # Resampling information is generated, following a Poisson disk distribution\n",
    "v_resampling_1 = pcu.interpolate_barycentric_coords(f, fid_1, bc_1, v)        # The new point cloud is generated from this previous information     \n",
    "target_aux_1 = target_num_pts_1\n",
    "\n",
    "while (v_resampling_1.shape[0] < target_aux_1 * (1-error_exactitud) or v_resampling_1.shape[0] > target_aux_1 * (1+error_exactitud)):\n",
    "    if v_resampling_1.shape[0] < target_aux_1 * (1-error_exactitud):\n",
    "        target_num_pts_1 = target_num_pts_1 * (1+error_exactitud)\n",
    "    elif v_resampling_1.shape[0] > target_aux_1 * (1+error_exactitud):\n",
    "        target_num_pts_1 = target_num_pts_1 * (1-error_exactitud)\n",
    "    fid_1, bc_1 = pcu.sample_mesh_poisson_disk(v, f, int(target_num_pts_1*0.9))\n",
    "    v_resampling_1 = pcu.interpolate_barycentric_coords(f, fid_1, bc_1, v)\n",
    "\n",
    "print(\"La nueva nube generada tiene\", v_resampling_1.shape[0], \"puntos.\")        # Exact number of points in the new point cloud is shown "
   ]
  },
  {
   "cell_type": "markdown",
   "metadata": {},
   "source": [
    "### Saving the new point cloud (only points, faces information is lost)"
   ]
  },
  {
   "cell_type": "code",
   "execution_count": null,
   "metadata": {},
   "outputs": [],
   "source": [
    "mesh_data_1 = {\n",
    "    'vertices': v_resampling_1.tolist()\n",
    "}\n",
    "\n",
    "# Saving the new dictionary in a .json file (only points, faces information is lost)\n",
    "with open(f\"./{nombre}_{v_resampling_1.shape[0]}_1.json\", 'w') as json_file:\n",
    "    json.dump(mesh_data_1, json_file)\n",
    "\n",
    "# Saving the new point cloud in a .ply file (only points, faces information is lost)\n",
    "pcu.save_mesh_v(f\"./{nombre}_{v_resampling_1.shape[0]}_1.ply\", v_resampling_1)"
   ]
  },
  {
   "cell_type": "markdown",
   "metadata": {},
   "source": [
    "### Point cloud visualization"
   ]
  },
  {
   "cell_type": "code",
   "execution_count": null,
   "metadata": {},
   "outputs": [],
   "source": [
    "# Uncomment the next two lines if the visualization is from a external .json file and not from the point cloud generated before \n",
    "# with open(f\"./externo.json\", 'r') as f:\n",
    "#         mesh_data_1 = json.load(f)\n",
    "\n",
    "plot_views(mesh_data_1)"
   ]
  },
  {
   "cell_type": "markdown",
   "metadata": {},
   "source": [
    "## 5. Second option. Generating a point cloud, in which points are evenly spaced \n",
    "The new point cloud is generated (only points), saved in .ply and in .json, and displayed."
   ]
  },
  {
   "cell_type": "code",
   "execution_count": null,
   "metadata": {},
   "outputs": [],
   "source": [
    "fid_2,bc_2=pcu.sample_mesh_poisson_disk(v,f,num_samples=-1,radius=target_radius_2) # Resampling information is generated, following a Poisson disk distribution\n",
    "v_resampling_2 = pcu.interpolate_barycentric_coords(f, fid_2, bc_2, v)             # The new point cloud is generated from this previous information\n",
    "\n",
    "while (v_resampling_2.shape[0] < target_num_pts_2*(1-error_exactitud) or v_resampling_2.shape[0] > target_num_pts_2*(1+error_exactitud)):\n",
    "    if v_resampling_2.shape[0] < target_num_pts_2*(1-error_exactitud):\n",
    "        target_radius_2 = target_radius_2 * (1-error_exactitud)\n",
    "    elif v_resampling_2.shape[0] > target_num_pts_2*(1+error_exactitud):\n",
    "        target_radius_2 = target_radius_2 * (1+error_exactitud)\n",
    "    fid_2, bc_2 = pcu.sample_mesh_poisson_disk(v, f, num_samples=-1, radius=target_radius_2)\n",
    "    v_resampling_2 = pcu.interpolate_barycentric_coords(f, fid_2, bc_2, v)\n",
    "\n",
    "print(\"La nueva nube generada tiene\", v_resampling_2.shape[0], \"puntos.\")          # Exact number of points in the new point cloud is shown"
   ]
  },
  {
   "cell_type": "markdown",
   "metadata": {},
   "source": [
    "### Saving the new point cloud (only points, faces information is lost)"
   ]
  },
  {
   "cell_type": "code",
   "execution_count": null,
   "metadata": {},
   "outputs": [],
   "source": [
    "mesh_data_2 = {\n",
    "    'vertices': v_resampling_2.tolist()\n",
    "}\n",
    "\n",
    "# Saving the new dictionary in a .json file (only points, faces information is lost)\n",
    "with open(f\"./{nombre}_{v_resampling_2.shape[0]}_2.json\", 'w') as json_file:\n",
    "    json.dump(mesh_data_2, json_file)\n",
    "\n",
    "# Saving the new point cloud in a .ply file (only points, faces information is lost)\n",
    "pcu.save_mesh_v(f\"./{nombre}_{v_resampling_2.shape[0]}_2.ply\", v_resampling_2)"
   ]
  },
  {
   "cell_type": "markdown",
   "metadata": {},
   "source": [
    "### Point cloud visualization"
   ]
  },
  {
   "cell_type": "code",
   "execution_count": null,
   "metadata": {},
   "outputs": [],
   "source": [
    "# Uncomment the next two lines if the visualization is from a external .json file and not from the point cloud generated before\n",
    "# with open(f\"./externo.json\", 'r') as f:\n",
    "#         mesh_data_2 = json.load(f)\n",
    "\n",
    "plot_views(mesh_data_2)"
   ]
  }
 ],
 "metadata": {
  "kernelspec": {
   "display_name": "Python 3",
   "language": "python",
   "name": "python3"
  },
  "language_info": {
   "codemirror_mode": {
    "name": "ipython",
    "version": 3
   },
   "file_extension": ".py",
   "mimetype": "text/x-python",
   "name": "python",
   "nbconvert_exporter": "python",
   "pygments_lexer": "ipython3",
   "version": "3.10.11"
  }
 },
 "nbformat": 4,
 "nbformat_minor": 2
}
