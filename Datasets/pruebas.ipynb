{
 "cells": [
  {
   "cell_type": "code",
   "execution_count": 1,
   "id": "cce1632c",
   "metadata": {},
   "outputs": [],
   "source": [
    "import numpy as np\n",
    "import matplotlib.pyplot as plt\n",
    "import torchvision.transforms as transforms"
   ]
  },
  {
   "cell_type": "code",
   "execution_count": 2,
   "id": "8ad0098d",
   "metadata": {},
   "outputs": [],
   "source": [
    "a = np.random.rand(16,16) + 1j * np.random.rand(16,16)\n",
    "# print(a)"
   ]
  },
  {
   "cell_type": "code",
   "execution_count": 7,
   "id": "a39ad8bb",
   "metadata": {},
   "outputs": [],
   "source": [
    "loaded = np.load(\"/home/newfasant2/N101/N101-IA/Datasets/Raw/Samples_64_f_64_d/Scaneagle_UAV_50000_fixed_meters/sample_4_133.151340_P.npy\")\n",
    "a = loaded[:, :, 0] + 1j * loaded[:, :, 1]\n",
    "\n",
    "fft_general = np.fft.fftshift(np.fft.fft2(a))\n",
    "fft_perfil = np.fft.fftshift(np.fft.fft(a=a, axis=0))\n",
    "plt.xticks([])\n",
    "plt.yticks([])\n",
    "plt.imsave(\"/home/newfasant2/N101/N101-IA/Datasets/\" + \"_4.png\", arr=np.abs(fft_general), cmap=\"gray\", format=\"png\")\n",
    "plt.close() # Close the figure to free memory\n",
    "\n",
    "plt.xticks([])\n",
    "plt.yticks([])\n",
    "plt.imsave(\"/home/newfasant2/N101/N101-IA/Datasets/\" + \"_perfil_4.png\", arr=np.abs(fft_perfil), cmap=\"gray\", format=\"png\")\n",
    "plt.close() # Close the figure to free memory"
   ]
  },
  {
   "cell_type": "code",
   "execution_count": 4,
   "id": "4d51c6d5",
   "metadata": {},
   "outputs": [],
   "source": [
    "prueb = np.random.rand(4,4)\n",
    "new_prueb = np.zeros(shape=(8, 8))"
   ]
  },
  {
   "cell_type": "code",
   "execution_count": 5,
   "id": "1d86acf3",
   "metadata": {},
   "outputs": [],
   "source": [
    "for i in range(prueb.shape[0]):\n",
    "    for j in range(prueb.shape[1]):\n",
    "        new_prueb[2*i:2*(i+1), 2*j:2*(j+1)] = prueb[i, j]"
   ]
  },
  {
   "cell_type": "code",
   "execution_count": 6,
   "id": "0e346654",
   "metadata": {},
   "outputs": [
    {
     "name": "stdout",
     "output_type": "stream",
     "text": [
      "[[0.50179218 0.44088283 0.75031633 0.41328426]\n",
      " [0.96136685 0.29532263 0.86740359 0.94082291]\n",
      " [0.53847334 0.26813291 0.49244944 0.76832983]\n",
      " [0.71954096 0.27316901 0.54698491 0.93798429]]\n",
      "[[0.50179218 0.50179218 0.44088283 0.44088283 0.75031633 0.75031633\n",
      "  0.41328426 0.41328426]\n",
      " [0.50179218 0.50179218 0.44088283 0.44088283 0.75031633 0.75031633\n",
      "  0.41328426 0.41328426]\n",
      " [0.96136685 0.96136685 0.29532263 0.29532263 0.86740359 0.86740359\n",
      "  0.94082291 0.94082291]\n",
      " [0.96136685 0.96136685 0.29532263 0.29532263 0.86740359 0.86740359\n",
      "  0.94082291 0.94082291]\n",
      " [0.53847334 0.53847334 0.26813291 0.26813291 0.49244944 0.49244944\n",
      "  0.76832983 0.76832983]\n",
      " [0.53847334 0.53847334 0.26813291 0.26813291 0.49244944 0.49244944\n",
      "  0.76832983 0.76832983]\n",
      " [0.71954096 0.71954096 0.27316901 0.27316901 0.54698491 0.54698491\n",
      "  0.93798429 0.93798429]\n",
      " [0.71954096 0.71954096 0.27316901 0.27316901 0.54698491 0.54698491\n",
      "  0.93798429 0.93798429]]\n"
     ]
    }
   ],
   "source": [
    "print(prueb)\n",
    "print(new_prueb)"
   ]
  }
 ],
 "metadata": {
  "kernelspec": {
   "display_name": "N101_ev",
   "language": "python",
   "name": "python3"
  },
  "language_info": {
   "codemirror_mode": {
    "name": "ipython",
    "version": 3
   },
   "file_extension": ".py",
   "mimetype": "text/x-python",
   "name": "python",
   "nbconvert_exporter": "python",
   "pygments_lexer": "ipython3",
   "version": "3.10.16"
  }
 },
 "nbformat": 4,
 "nbformat_minor": 5
}
